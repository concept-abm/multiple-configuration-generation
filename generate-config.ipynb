{
 "cells": [
  {
   "cell_type": "code",
   "execution_count": 1,
   "id": "ddf9b684-2b94-4e1b-96c4-c289f7ad4799",
   "metadata": {},
   "outputs": [],
   "source": [
    "import pandas\n",
    "import numpy\n",
    "import json\n",
    "import networkx\n",
    "from scipy.stats import truncnorm\n",
    "from uuid import uuid4"
   ]
  },
  {
   "cell_type": "markdown",
   "id": "7287ba54-804a-43e0-bb56-da4bc61c3e05",
   "metadata": {},
   "source": [
    "# Generate behaviours"
   ]
  },
  {
   "cell_type": "code",
   "execution_count": 2,
   "id": "903363a6-df32-4314-85e8-ec6c6a3b1a72",
   "metadata": {},
   "outputs": [],
   "source": [
    "behaviours_df = pandas.DataFrame({\n",
    "    \"name\": [\"Walk\", \"Cycle\", \"PT\", \"Drive\"]\n",
    "})"
   ]
  },
  {
   "cell_type": "markdown",
   "id": "e7ec1826-76b5-4fbf-9ca2-1a76b40e367e",
   "metadata": {},
   "source": [
    "Now generate the UUIDs."
   ]
  },
  {
   "cell_type": "code",
   "execution_count": 3,
   "id": "23521bad-1c44-473d-a842-9ab875da132f",
   "metadata": {},
   "outputs": [],
   "source": [
    "behaviours_df[\"uuid\"] = [str(uuid4()) for i in range(len(behaviours_df))]"
   ]
  },
  {
   "cell_type": "code",
   "execution_count": 4,
   "id": "84772552-fcbc-4dfa-92d9-bca41b4312cd",
   "metadata": {},
   "outputs": [],
   "source": [
    "behaviours_df.to_json(\"behaviours.json\", orient=\"records\")"
   ]
  },
  {
   "cell_type": "markdown",
   "id": "e3bb0640-b9ab-4449-9547-68ba5367eb78",
   "metadata": {},
   "source": [
    "# Generate beliefs"
   ]
  },
  {
   "cell_type": "code",
   "execution_count": 5,
   "id": "36b87b7d-f9ad-4fcd-a082-97322f29b946",
   "metadata": {},
   "outputs": [],
   "source": [
    "beliefs_df = pandas.DataFrame({\n",
    "    \"name\": [\n",
    "        \"I care about the environment\",\n",
    "        \"I want to get to work quickly\",\n",
    "        \"I care about the social importance of the car\",\n",
    "        \"I want to keep fit\",\n",
    "        \"I do not want to perform exercise on my commute\"\n",
    "    ]\n",
    "})"
   ]
  },
  {
   "cell_type": "code",
   "execution_count": 6,
   "id": "895a74ee-6f40-4416-8f99-1bdb9149829a",
   "metadata": {},
   "outputs": [],
   "source": [
    "belief_uuids = [str(uuid4()) for i in range(len(beliefs_df))]\n",
    "beliefs_df[\"uuid\"] = belief_uuids"
   ]
  },
  {
   "cell_type": "code",
   "execution_count": 7,
   "id": "11596a3f-53d1-483d-a3e3-ce1f9b9dc491",
   "metadata": {},
   "outputs": [],
   "source": [
    "w_uuid = behaviours_df[behaviours_df[\"name\"] == \"Walk\"].reset_index().uuid[0]\n",
    "c_uuid = behaviours_df[behaviours_df[\"name\"] == \"Cycle\"].reset_index().uuid[0]\n",
    "p_uuid = behaviours_df[behaviours_df[\"name\"] == \"PT\"].reset_index().uuid[0]\n",
    "d_uuid = behaviours_df[behaviours_df[\"name\"] == \"Drive\"].reset_index().uuid[0]"
   ]
  },
  {
   "cell_type": "code",
   "execution_count": 8,
   "id": "3c1f017f-b053-45e7-b057-4e30569ff2a5",
   "metadata": {},
   "outputs": [],
   "source": [
    "perceptions = [\n",
    "    {\n",
    "        w_uuid: 0.6,\n",
    "        c_uuid: 0.7,\n",
    "        p_uuid: 0.4,\n",
    "        d_uuid: -0.9\n",
    "    }, {\n",
    "        w_uuid: -0.5,\n",
    "        c_uuid: 0.0,\n",
    "        p_uuid: -0.1,\n",
    "        d_uuid: 0.4\n",
    "    }, {\n",
    "        w_uuid: 0.0,\n",
    "        c_uuid: 0.0,\n",
    "        p_uuid: -0.3,\n",
    "        d_uuid: 0.8\n",
    "    }, {\n",
    "        w_uuid: 0.2,\n",
    "        c_uuid: 0.7,\n",
    "        p_uuid: 0.0,\n",
    "        d_uuid: 0.0\n",
    "    }, {\n",
    "        w_uuid: -0.2,\n",
    "        c_uuid: -0.7,\n",
    "        p_uuid: 0.1,\n",
    "        d_uuid: 0.2\n",
    "    }\n",
    "]"
   ]
  },
  {
   "cell_type": "code",
   "execution_count": 9,
   "id": "efd5b4fe-fbfa-4c42-9ccd-2293e62693eb",
   "metadata": {},
   "outputs": [],
   "source": [
    "beliefs_df[\"perceptions\"] = perceptions"
   ]
  },
  {
   "cell_type": "code",
   "execution_count": 10,
   "id": "ef7c0a2b-c508-47c5-8d8a-4e4e1c5e840e",
   "metadata": {},
   "outputs": [],
   "source": [
    "relationships = [\n",
    "    {\n",
    "        belief_uuids[2]: -0.5,\n",
    "        belief_uuids[3]: 0.2\n",
    "    }, {\n",
    "        belief_uuids[0]: -0.1,\n",
    "        belief_uuids[2]: 0.3\n",
    "    }, {\n",
    "        belief_uuids[0]: -0.3,\n",
    "        belief_uuids[1]: 0.7,\n",
    "        belief_uuids[4]: 0.5\n",
    "    }, {\n",
    "        belief_uuids[0]: 0.2,\n",
    "        belief_uuids[1]: -0.1,\n",
    "        belief_uuids[4]: -1.0\n",
    "    }, {\n",
    "        belief_uuids[0]: -0.1,\n",
    "        belief_uuids[1]: 0.4,\n",
    "        belief_uuids[2]: 0.1,\n",
    "        belief_uuids[3]: -1.0\n",
    "    }\n",
    "]"
   ]
  },
  {
   "cell_type": "code",
   "execution_count": 11,
   "id": "7a28c827-2536-44a1-9008-b903b6bd2b9f",
   "metadata": {},
   "outputs": [],
   "source": [
    "beliefs_df[\"relationships\"] = relationships"
   ]
  },
  {
   "cell_type": "code",
   "execution_count": 12,
   "id": "6709d9dc-31ef-4984-ab1b-e4b971f57cae",
   "metadata": {},
   "outputs": [],
   "source": [
    "beliefs_df.to_json(\"beliefs.json\", orient=\"records\")"
   ]
  },
  {
   "cell_type": "markdown",
   "id": "64e2a777",
   "metadata": {},
   "source": [
    "# Generate PRS"
   ]
  },
  {
   "cell_type": "code",
   "execution_count": 13,
   "id": "5b0e791e",
   "metadata": {},
   "outputs": [],
   "source": [
    "# beliefs x behaviours matrix\n",
    "# behaviours: walk, cycle, PT, drive\n",
    "# beliefs: see above\n",
    "prs_mat = numpy.matrix([\n",
    "    [ 0.7,  0.8,  0.4,  0.5],\n",
    "    [-0.5, -0.5,  0.9, -0.2],\n",
    "    [ 0.0,  0.0,  1.0, -0.5],\n",
    "    [ 0.5,  0.9, -0.2,  0.0],\n",
    "    [-0.2, -0.8,  0.4,  0.4]\n",
    "])"
   ]
  },
  {
   "cell_type": "code",
   "execution_count": 14,
   "id": "b919c601",
   "metadata": {},
   "outputs": [],
   "source": [
    "prs = [{\n",
    "    \"beliefUuid\": beliefs_df.uuid.values[i],\n",
    "    \"behaviourUuid\": behaviours_df.uuid.values[j],\n",
    "    \"value\": prs_mat[i, j]\n",
    "} for i in range(prs_mat.shape[0]) for j in range(prs_mat.shape[1])]"
   ]
  },
  {
   "cell_type": "code",
   "execution_count": 15,
   "id": "f7b1117c",
   "metadata": {},
   "outputs": [],
   "source": [
    "with open(\"prs.json\", \"w\") as outfile:\n",
    "    json.dump(prs, outfile)"
   ]
  },
  {
   "cell_type": "markdown",
   "id": "73d29d06",
   "metadata": {},
   "source": [
    "# Generate agents\n",
    "## Start with UUIDs"
   ]
  },
  {
   "cell_type": "code",
   "execution_count": 16,
   "id": "2ccf2d18",
   "metadata": {},
   "outputs": [],
   "source": [
    "agents_df = pandas.DataFrame(\n",
    "    {\"uuid\": [str(uuid4()) for i in range(500)]}\n",
    ")"
   ]
  },
  {
   "cell_type": "markdown",
   "id": "bb2cb2d3",
   "metadata": {},
   "source": [
    "## Generate friends\n",
    "We'll use a small-world network"
   ]
  },
  {
   "cell_type": "code",
   "execution_count": 17,
   "id": "b6a2f9ec",
   "metadata": {},
   "outputs": [],
   "source": [
    "network = networkx.watts_strogatz_graph(\n",
    "    n = len(agents_df),\n",
    "    k = 10,\n",
    "    p = 0.3\n",
    ")"
   ]
  },
  {
   "cell_type": "markdown",
   "id": "4c0f31dc",
   "metadata": {},
   "source": [
    "Now, let's say there's an 80% chance of being friends with yourself"
   ]
  },
  {
   "cell_type": "code",
   "execution_count": 18,
   "id": "fb852b6e",
   "metadata": {},
   "outputs": [],
   "source": [
    "rng = numpy.random.default_rng()\n",
    "for i in range(len(agents_df)):\n",
    "    if rng.random() <= 0.8:\n",
    "        network.add_edge(i, i)"
   ]
  },
  {
   "cell_type": "markdown",
   "id": "579e5090",
   "metadata": {},
   "source": [
    "Now let's add some weights"
   ]
  },
  {
   "cell_type": "code",
   "execution_count": 19,
   "id": "2230e3cb",
   "metadata": {},
   "outputs": [],
   "source": [
    "a, b = (0 - 0) / 1, (1 - 0) / 1\n",
    "for edge in network.edges:\n",
    "    network.edges[edge[0], edge[1]][\"weight\"] = truncnorm.rvs(a, b)"
   ]
  },
  {
   "cell_type": "markdown",
   "id": "45732877",
   "metadata": {},
   "source": [
    "Now let's add it do the dataframe"
   ]
  },
  {
   "cell_type": "code",
   "execution_count": 20,
   "id": "27767905",
   "metadata": {},
   "outputs": [],
   "source": [
    "friends = numpy.full(len(agents_df), {})\n",
    "for edge in network.edges:\n",
    "    friends[edge[0]][agents_df.iloc[edge[1]][\"uuid\"]] =\\\n",
    "         network.edges[edge[0], edge[1]][\"weight\"]"
   ]
  },
  {
   "cell_type": "code",
   "execution_count": 21,
   "id": "46f4fd16",
   "metadata": {},
   "outputs": [],
   "source": [
    "agents_df[\"friends\"] = friends"
   ]
  },
  {
   "cell_type": "markdown",
   "id": "759ab776",
   "metadata": {},
   "source": [
    "Now we can generate the deltas"
   ]
  },
  {
   "cell_type": "code",
   "execution_count": 22,
   "id": "c9212c69",
   "metadata": {},
   "outputs": [],
   "source": [
    "deltas_mat = rng.normal(loc=1.0-0.001, scale=0.1,size=(len(agents_df), len(beliefs_df)))\n",
    "# Ensure fuly positive (very unlikely for this not to be the case)\n",
    "deltas_mat = numpy.abs(deltas_mat) + 0.001"
   ]
  },
  {
   "cell_type": "code",
   "execution_count": 23,
   "id": "db4be579",
   "metadata": {},
   "outputs": [],
   "source": [
    "agents_df[\"deltas\"] = [\n",
    "    {beliefs_df.iloc[belief_i][\"uuid\"]: deltas_mat[agent_i, belief_i]\n",
    "        for belief_i in range(deltas_mat.shape[1])}\n",
    "    for agent_i in range(deltas_mat.shape[0])\n",
    "]"
   ]
  },
  {
   "cell_type": "markdown",
   "id": "c1da1b56",
   "metadata": {},
   "source": [
    "## Generate activations\n",
    "\n",
    "Now we can generate the activations, we'll use a two part model where there is a 50% chance of activation being non-zero and then a truncated Normal(0, 0.1) distribution capped at -1 and +1"
   ]
  },
  {
   "cell_type": "code",
   "execution_count": 24,
   "id": "daac5c13",
   "metadata": {},
   "outputs": [],
   "source": [
    "def random_activation():\n",
    "    a, b = (-1 - 0) / 1, (1 - 0) / 1\n",
    "    rng = numpy.random.default_rng()\n",
    "    if rng.random() <= 0.5:\n",
    "        return 0.0\n",
    "    else:\n",
    "        return truncnorm.rvs(a, b)\n",
    "\n",
    "agents_df[\"activations\"] = [\n",
    "    {0: {belief_uuid: random_activation()\n",
    "        for belief_uuid in beliefs_df.uuid.values}}\n",
    "    for _i in range(len(agents_df))\n",
    "]"
   ]
  },
  {
   "cell_type": "markdown",
   "id": "8ba89891",
   "metadata": {},
   "source": [
    "Finally, we can generate the initial actions"
   ]
  },
  {
   "cell_type": "code",
   "execution_count": 25,
   "id": "c0ab6812",
   "metadata": {},
   "outputs": [],
   "source": [
    "def choose_initial_actions(\n",
    "    activations,\n",
    "    prs\n",
    "):\n",
    "    return numpy.array(numpy.argmax(activations * prs, axis=1)).reshape(activations.shape[0])"
   ]
  },
  {
   "cell_type": "code",
   "execution_count": 26,
   "id": "6420c149",
   "metadata": {},
   "outputs": [],
   "source": [
    "initial_actions = choose_initial_actions(\n",
    "    numpy.array([\n",
    "        [agents_df.iloc[agent_i][\"activations\"][0][belief_uuid]\n",
    "            for belief_uuid in beliefs_df.uuid.values]\n",
    "    for agent_i in range(len(agents_df))]),\n",
    "    prs_mat\n",
    ")\n",
    "\n",
    "agents_df[\"actions\"] = [\n",
    "    {\n",
    "        0: behaviours_df.iloc[initial_actions[i]].uuid\n",
    "    } for i in range(len(agents_df))\n",
    "]"
   ]
  },
  {
   "cell_type": "code",
   "execution_count": 27,
   "id": "d3fd32f8",
   "metadata": {},
   "outputs": [],
   "source": [
    "agents_df.to_json(\"agents.json\", orient=\"records\")"
   ]
  }
 ],
 "metadata": {
  "kernelspec": {
   "display_name": "Python 3",
   "language": "python",
   "name": "python3"
  },
  "language_info": {
   "codemirror_mode": {
    "name": "ipython",
    "version": 3
   },
   "file_extension": ".py",
   "mimetype": "text/x-python",
   "name": "python",
   "nbconvert_exporter": "python",
   "pygments_lexer": "ipython3",
   "version": "3.10.8 (main, Oct 13 2022, 22:36:54) [GCC 10.2.1 20210110]"
  },
  "vscode": {
   "interpreter": {
    "hash": "949777d72b0d2535278d3dc13498b2535136f6dfe0678499012e853ee9abcab1"
   }
  }
 },
 "nbformat": 4,
 "nbformat_minor": 5
}
